{
 "cells": [
  {
   "cell_type": "markdown",
   "metadata": {},
   "source": [
    "# Day 4 - Solved Examples"
   ]
  },
  {
   "cell_type": "markdown",
   "metadata": {},
   "source": [
    "## Stats Modules"
   ]
  },
  {
   "cell_type": "code",
   "execution_count": null,
   "metadata": {},
   "outputs": [],
   "source": [
    "import pandas as pd\n",
    "\n",
    "print(df.groupby(\"Function\")[\"log2FC\"].mean())\n",
    "print(df.groupby(\"Function\")[\"log2FC\"].std())\n",
    "print(df.groupby(\"Function\")[\"Gene Length\"].sum())\n"
   ]
  },
  {
   "cell_type": "code",
   "execution_count": null,
   "metadata": {},
   "outputs": [],
   "source": [
    "from scipy.stats import shapiro, mannwhitneyu, kruskal, spearmanr, wilcoxon\n",
    "\n",
    "def test_vs_WTavg(sample):\n",
    "    # Perform Shapiro-Wilk test\n",
    "    stat, p_value = shapiro(all_samples[sample])\n",
    "    print(f\"Normality:\\t\\t   Stat = {round(stat,5)}\\tp = {round(p_value,5)}\")\n",
    "\n",
    "    # Mann-Whitney U Test versus WT mean\n",
    "    stat, p = mannwhitneyu(WT_mean_values, all_samples[sample])\n",
    "    print(f'Mann-Whitney U Test:\\t   Stat = {round(stat,5)}\\tp = {round(p,5)}')\n",
    "\n",
    "    # Spearman Rank Correlation versus WT mean\n",
    "    coef, p = spearmanr(WT_mean_values, all_samples[sample])\n",
    "    print(f'Spearman Rank Correlation: Coeff = {round(coef,5)}\\tp = {round(p,5)}')\n",
    "\n",
    "    # Wilcoxon Signed-Rank Test versus WT mean\n",
    "    stat, p = wilcoxon(WT_mean_values, all_samples[sample])\n",
    "    print(f'Wilcoxon Signed-Rank Test: Stat = {round(stat,5)}\\tp = {round(p,5)}')\n",
    "\n",
    "# Run for all samples\n",
    "for sample in all_samples.keys():\n",
    "    print(sample + \"\\n====\")\n",
    "    test_vs_WTavg(sample)\n",
    "    print()"
   ]
  },
  {
   "cell_type": "markdown",
   "metadata": {},
   "source": [
    "## Data visualisation"
   ]
  },
  {
   "cell_type": "markdown",
   "metadata": {},
   "source": [
    "## Argparse"
   ]
  },
  {
   "cell_type": "code",
   "execution_count": null,
   "metadata": {},
   "outputs": [],
   "source": [
    "#!/usr/bin/python3\n",
    "\n",
    "import argparse\n",
    "from Bio import SeqIO, Seq\n",
    "\n",
    "\n",
    "# Initialise the parser class\n",
    "parser = argparse.ArgumentParser(description='Description of your script')\n",
    "\n",
    "# Define some options/arguments/parameters\n",
    "parser.add_argument('-i', '--input', help='Path to input file')\n",
    "parser.add_argument('-o', '--output', help='Path to output file', default='my_output.txt')\n",
    "parser.add_argument('-m', '--min_length', help='minimum length required', default='900')\n",
    "\n",
    "# Collect the inputted arguments into a dictionary\n",
    "args = parser.parse_args()\n",
    "\n",
    "\n",
    "for seq_record in SeqIO.parse(args.input, 'fasta'):\n",
    "    seq_len = len(seq_record)\n",
    "    GC = (seq_record.seq.count(\"G\") + seq_record.seq.count(\"C\")) / seq_len * 100\n",
    "\n",
    "    if seq_len > int(args.min_length):\n",
    "        print(\"Sequence\", seq_record.id, \"has length\", seq_len, \"and GC of\", str(round(GC, 2)) + \"%\")"
   ]
  },
  {
   "cell_type": "markdown",
   "metadata": {},
   "source": [
    "## Classes"
   ]
  },
  {
   "cell_type": "code",
   "execution_count": null,
   "metadata": {},
   "outputs": [],
   "source": [
    "import re\n",
    "\n",
    "class Sequence:\n",
    "    def __init__(self, ID, raw):\n",
    "        self.id = ID\n",
    "        self.raw = raw\n",
    "        self.length = len(raw)\n",
    "\n",
    "    def __repr__(self):\n",
    "        return \"The sequence object for {} (length: {})\".format(self.id, self.length)\n",
    "\n",
    "    def calc_GC(self):\n",
    "        gc_perc = (self.raw.count(\"G\") + self.raw.count(\"C\")) / self.length * 100\n",
    "        return str(round(gc_perc, 2)) + \"%\"\n",
    "\n",
    "    def translateRNA(self):\n",
    "        tr = self.raw.replace(\"T\", \"U\")\n",
    "        return tr\n",
    "    \n",
    "    def motif_search(self, motif):\n",
    "        motif_count = self.raw.count(motif)\n",
    "\n",
    "        if motif_count != 0:\n",
    "            return \"Motif {} found in {} {} times\".format(motif, self.id, motif_count)\n",
    "        else:\n",
    "            return \"Motif {} was not found in {}\".format(motif, self.id)\n",
    "\n",
    "## Some tests here\n",
    "\n",
    "my_first_sequence = Sequence(\"HSA01\", \"TGTGTCATGCAAAACTAGGTCATGCGTCCGCTGACTGATGACTGACACTGGTGGCACAACTGACTGAC\")\n",
    "my_second_sequence = Sequence(\"MET01\", \"AAAAAAACGCGACTACGCGGCGACTATGTGTCATGCAAAACTAGGTCATGCGTCCGCTTGTGTGTGCAACGATGCGACTA\")\n",
    "\n",
    "print(my_first_sequence)\n",
    "print(my_second_sequence)\n",
    "\n",
    "print(my_first_sequence.calc_GC())\n",
    "print(my_second_sequence.calc_GC())\n",
    "\n",
    "print(my_first_sequence.translateRNA())\n",
    "print(my_second_sequence.translateRNA())\n",
    "\n",
    "\n",
    "print(my_first_sequence.motif_search(\"TGACTG\"))\n",
    "print(my_second_sequence.motif_search(\"TGACTG\"))\n"
   ]
  }
 ],
 "metadata": {
  "language_info": {
   "name": "python"
  },
  "orig_nbformat": 4
 },
 "nbformat": 4,
 "nbformat_minor": 2
}
