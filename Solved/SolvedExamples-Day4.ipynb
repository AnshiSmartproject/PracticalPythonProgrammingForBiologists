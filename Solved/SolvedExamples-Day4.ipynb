{
 "cells": [
  {
   "cell_type": "markdown",
   "metadata": {},
   "source": [
    "# Day 4 - Solved Examples"
   ]
  },
  {
   "cell_type": "markdown",
   "metadata": {},
   "source": [
    "## Data visualisation"
   ]
  },
  {
   "cell_type": "markdown",
   "metadata": {},
   "source": [
    "## Argparse"
   ]
  },
  {
   "cell_type": "code",
   "execution_count": null,
   "metadata": {},
   "outputs": [],
   "source": [
    "#!/usr/bin/python3\n",
    "\n",
    "import argparse\n",
    "from Bio import SeqIO, Seq\n",
    "\n",
    "\n",
    "# Initialise the parser class\n",
    "parser = argparse.ArgumentParser(description='Description of your script')\n",
    "\n",
    "# Define some options/arguments/parameters\n",
    "parser.add_argument('-i', '--input', help='Path to input file')\n",
    "parser.add_argument('-o', '--output', help='Path to output file', default='my_output.txt')\n",
    "parser.add_argument('-m', '--min_length', help='minimum length required', default='900')\n",
    "\n",
    "# Collect the inputted arguments into a dictionary\n",
    "args = parser.parse_args()\n",
    "\n",
    "\n",
    "for seq_record in SeqIO.parse(args.input, 'fasta'):\n",
    "    seq_len = len(seq_record)\n",
    "    GC = (seq_record.seq.count(\"G\") + seq_record.seq.count(\"C\")) / seq_len * 100\n",
    "\n",
    "    if seq_len > int(args.min_length):\n",
    "        print(\"Sequence\", seq_record.id, \"has length\", seq_len, \"and GC of\", str(round(GC, 2)) + \"%\")"
   ]
  },
  {
   "cell_type": "markdown",
   "metadata": {},
   "source": [
    "## Classes"
   ]
  },
  {
   "cell_type": "code",
   "execution_count": null,
   "metadata": {},
   "outputs": [],
   "source": [
    "import re\n",
    "\n",
    "class Sequence:\n",
    "    def __init__(self, ID, raw):\n",
    "        self.id = ID\n",
    "        self.raw = raw\n",
    "        self.length = len(raw)\n",
    "\n",
    "    def __repr__(self):\n",
    "        return \"The sequence object for {} (length: {})\".format(self.id, self.length)\n",
    "\n",
    "    def calc_GC(self):\n",
    "        gc_perc = (self.raw.count(\"G\") + self.raw.count(\"C\")) / self.length * 100\n",
    "        return str(round(gc_perc, 2)) + \"%\"\n",
    "\n",
    "    def translateRNA(self):\n",
    "        tr = self.raw.replace(\"T\", \"U\")\n",
    "        return tr\n",
    "    \n",
    "    def motif_search(self, motif):\n",
    "        motif_count = self.raw.count(motif)\n",
    "\n",
    "        if motif_count != 0:\n",
    "            return \"Motif {} found in {} {} times\".format(motif, self.id, motif_count)\n",
    "        else:\n",
    "            return \"Motif {} was not found in {}\".format(motif, self.id)\n",
    "\n",
    "## Some tests here\n",
    "\n",
    "my_first_sequence = Sequence(\"HSA01\", \"TGTGTCATGCAAAACTAGGTCATGCGTCCGCTGACTGATGACTGACACTGGTGGCACAACTGACTGAC\")\n",
    "my_second_sequence = Sequence(\"MET01\", \"AAAAAAACGCGACTACGCGGCGACTATGTGTCATGCAAAACTAGGTCATGCGTCCGCTTGTGTGTGCAACGATGCGACTA\")\n",
    "\n",
    "print(my_first_sequence)\n",
    "print(my_second_sequence)\n",
    "\n",
    "print(my_first_sequence.calc_GC())\n",
    "print(my_second_sequence.calc_GC())\n",
    "\n",
    "print(my_first_sequence.translateRNA())\n",
    "print(my_second_sequence.translateRNA())\n",
    "\n",
    "\n",
    "print(my_first_sequence.motif_search(\"TGACTG\"))\n",
    "print(my_second_sequence.motif_search(\"TGACTG\"))\n"
   ]
  }
 ],
 "metadata": {
  "language_info": {
   "name": "python"
  },
  "orig_nbformat": 4
 },
 "nbformat": 4,
 "nbformat_minor": 2
}
