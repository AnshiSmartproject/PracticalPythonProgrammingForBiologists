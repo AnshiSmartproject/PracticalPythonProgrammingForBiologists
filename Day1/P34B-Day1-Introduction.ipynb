{
 "cells": [
  {
   "cell_type": "markdown",
   "metadata": {
    "id": "ViADsc_4G3n5"
   },
   "source": [
    "# Practical Python Programming for Biologists\n",
    "Author: Dr. Daniel Pass | www.CompassBioinformatics.com\n",
    "\n",
    "---\n",
    "First thing we'll do in this introduction page is get comfortable with how to use Jupyter/ipynb notebooks and running your own code"
   ]
  },
  {
   "cell_type": "markdown",
   "metadata": {
    "id": "5j4T7sV-KSh1"
   },
   "source": [
    "# Notebooks\n",
    "One way that you likely have seen python coding before is as a text file with all the code in, which you can run without seeing the actual code. We are going to work up to that, but first we're going to start with an interactive notebook for a few reasons.\n",
    "\n",
    "> Python coding notebooks are interactive documents that allow for the creation and sharing of code, text, and visualizations. **You're in one right now!** The ```.ipynb``` format was created by the Jupyter project and is widely used to create notebooks that can be shared, edited, and executed by others, without requiring the installation of any software on your computer.\n",
    "\n",
    "> ```.ipynb``` notebooks consist of a series of cells, each of which can contain either code, text, or graphics. Code cells contain Python code that can be executed directly within the notebook. Text cells can contain formatted text, images, and links, and graphics cells display visualizations such as plots, charts, and maps.\n"
   ]
  },
  {
   "cell_type": "markdown",
   "metadata": {
    "id": "UGfh1okZMWjg"
   },
   "source": [
    "### Example code block\n",
    "You can run these code blocks by clicking the triangular button on the left side. You can also edit them yourself however you want."
   ]
  },
  {
   "cell_type": "code",
   "execution_count": 1,
   "metadata": {
    "colab": {
     "base_uri": "https://localhost:8080/"
    },
    "executionInfo": {
     "elapsed": 299,
     "status": "ok",
     "timestamp": 1694781567194,
     "user": {
      "displayName": "Daniel Pass",
      "userId": "05126028130431341848"
     },
     "user_tz": -120
    },
    "id": "gF1_WgrVLOLv",
    "outputId": "1653e951-92d6-4c17-8e6a-25eb29c4d3f0"
   },
   "outputs": [
    {
     "name": "stdout",
     "output_type": "stream",
     "text": [
      "Hello all, welcome to the course! Dan here, writing to you from the past 👻\n",
      "Wow, I'm really surprised the ghost emoji works in this code environment!\n"
     ]
    }
   ],
   "source": [
    "print(\"Hello all, welcome to the course! Dan here, writing to you from the past 👻\")\n",
    "print(\"Wow, I'm really surprised the ghost emoji works in this code environment!\")"
   ]
  },
  {
   "cell_type": "markdown",
   "metadata": {
    "id": "6MNhoEzX4LMP"
   },
   "source": [
    "You'll also see that we're using a module for working with dates, and a function to print what the date is today. That is just to show some of the power of python, but more on that later!\n",
    "\n",
    "**Exercise:** Add a new ```print()``` line in this block including your name and run the code. (It'll get more advanced than this, I promise!)"
   ]
  },
  {
   "cell_type": "code",
   "execution_count": 3,
   "metadata": {
    "colab": {
     "base_uri": "https://localhost:8080/"
    },
    "executionInfo": {
     "elapsed": 243,
     "status": "ok",
     "timestamp": 1694782064960,
     "user": {
      "displayName": "Daniel Pass",
      "userId": "05126028130431341848"
     },
     "user_tz": -120
    },
    "id": "baGCgKxs2nrf",
    "outputId": "2b5d824a-62e7-4aa3-b480-b70004305817"
   },
   "outputs": [
    {
     "name": "stdout",
     "output_type": "stream",
     "text": [
      "Ny name is ......\n",
      "and I'm super excited to write some python today!\n",
      "By today I mean: Monday (29 September 2025)!\n"
     ]
    }
   ],
   "source": [
    "from datetime import date\n",
    "\n",
    "print(\"Ny name is ......\")\n",
    "# Put your own print() here:\n",
    "\n",
    "\n",
    "print(\"and I'm super excited to write some python today!\")\n",
    "print(\"By today I mean:\", date.today().strftime(\"%A (%d %B %Y)!\"))"
   ]
  },
  {
   "cell_type": "markdown",
   "metadata": {
    "id": "Zqvym4IPMak-"
   },
   "source": [
    "### Example graphical output\n",
    "We will also be generating lots of visual outputs. Plots will show up underneath your code after it runs. Here is a simple x vs y plot but again, we will look at how it works later.\n"
   ]
  },
  {
   "cell_type": "code",
   "execution_count": 2,
   "metadata": {
    "colab": {
     "base_uri": "https://localhost:8080/",
     "height": 449
    },
    "executionInfo": {
     "elapsed": 774,
     "status": "ok",
     "timestamp": 1694782294843,
     "user": {
      "displayName": "Daniel Pass",
      "userId": "05126028130431341848"
     },
     "user_tz": -120
    },
    "id": "7C2HMGTEZ7w4",
    "outputId": "22f982ce-b151-44b1-dd31-598053087402"
   },
   "outputs": [
    {
     "ename": "ModuleNotFoundError",
     "evalue": "No module named 'matplotlib'",
     "output_type": "error",
     "traceback": [
      "\u001b[1;31m---------------------------------------------------------------------------\u001b[0m",
      "\u001b[1;31mModuleNotFoundError\u001b[0m                       Traceback (most recent call last)",
      "Cell \u001b[1;32mIn[2], line 1\u001b[0m\n\u001b[1;32m----> 1\u001b[0m \u001b[38;5;28;01mimport\u001b[39;00m\u001b[38;5;250m \u001b[39m\u001b[38;5;21;01mmatplotlib\u001b[39;00m\u001b[38;5;21;01m.\u001b[39;00m\u001b[38;5;21;01mpyplot\u001b[39;00m\u001b[38;5;250m \u001b[39m\u001b[38;5;28;01mas\u001b[39;00m\u001b[38;5;250m \u001b[39m\u001b[38;5;21;01mplt\u001b[39;00m\n\u001b[0;32m      3\u001b[0m x \u001b[38;5;241m=\u001b[39m [\u001b[38;5;124m\"\u001b[39m\u001b[38;5;124mMonday\u001b[39m\u001b[38;5;124m\"\u001b[39m, \u001b[38;5;124m\"\u001b[39m\u001b[38;5;124mTuesday\u001b[39m\u001b[38;5;124m\"\u001b[39m, \u001b[38;5;124m\"\u001b[39m\u001b[38;5;124mWednesday\u001b[39m\u001b[38;5;124m\"\u001b[39m, \u001b[38;5;124m\"\u001b[39m\u001b[38;5;124mThursday\u001b[39m\u001b[38;5;124m\"\u001b[39m]\n\u001b[0;32m      4\u001b[0m y \u001b[38;5;241m=\u001b[39m [\u001b[38;5;124m\"\u001b[39m\u001b[38;5;124ma bit\u001b[39m\u001b[38;5;124m\"\u001b[39m, \u001b[38;5;124m\"\u001b[39m\u001b[38;5;124msome\u001b[39m\u001b[38;5;124m\"\u001b[39m, \u001b[38;5;124m\"\u001b[39m\u001b[38;5;124mloads\u001b[39m\u001b[38;5;124m\"\u001b[39m, \u001b[38;5;124m\"\u001b[39m\u001b[38;5;124mI\u001b[39m\u001b[38;5;124m'\u001b[39m\u001b[38;5;124mm a genius\u001b[39m\u001b[38;5;124m\"\u001b[39m]\n",
      "\u001b[1;31mModuleNotFoundError\u001b[0m: No module named 'matplotlib'"
     ]
    }
   ],
   "source": [
    "import matplotlib.pyplot as plt\n",
    "\n",
    "x = [\"Monday\", \"Tuesday\", \"Wednesday\", \"Thursday\"]\n",
    "y = [\"a bit\", \"some\", \"loads\", \"I'm a genius\"]\n",
    "\n",
    "plt.plot(x, y)\n",
    "plt.xlabel('Day of the course')\n",
    "plt.ylabel('How much python you know')\n",
    "plt.show()"
   ]
  },
  {
   "cell_type": "markdown",
   "metadata": {
    "id": "qRK3SvtOUDz9"
   },
   "source": [
    "**Exercise:**\n",
    "The easiest way to start writing code is to improve and edit something that already exists. \n",
    "\n",
    "Edit the code above so that:\n",
    "\n",
    "- This plot doesn't have a title! Give it a title adding ```plt.title('Plot title')``` into the code. It can go on the line after ```plt.ylabel``` using the same format\n",
    "- Is a line plot the best display? Change ```plt.plot``` into ```plt.bar``` and run the code block again."
   ]
  },
  {
   "cell_type": "markdown",
   "metadata": {
    "id": "CJkX59F8MOq6"
   },
   "source": [
    "### Notebooks vs stand-alone code\n",
    "**When should we run in a notebook?**\n",
    "\n",
    "One of the main benefits of using .ipynb notebooks is the ability to develop and test code as you go. The notebook format allows for the execution of code cells in any order, making it easy to debug code and modify existing code to try out new ideas. Additionally, the ability to mix text and code in a single document provides an easy way to document and explain the code, making it easier for others to understand and use.\n",
    "\n",
    ".ipynb notebooks can be created using a variety of tools including Jupyter Notebook, JupyterLab, Google Colab, vscode, and others. They provide a user-friendly interface for creating, editing, and executing .ipynb notebooks. Once created, .ipynb notebooks can be shared with others like a standard file sent via email, or version control systems like Git.\n",
    "\n",
    "---\n",
    "---\n",
    "**When should we run as an enclosed program?**\n",
    "\n",
    "Running your own code locally or on a server is essential when working with large files, complex and long code with lots of functions, and allows you to fit your code into larger pipelines. It also allows for a more traditional style of running your code like published software, including having command line parameters. Also, in a notebook like this we are restricted on processing power, run-time, and storage.\n",
    "\n",
    "Python comes pre-installed on Mac and Linux opperating systems, and can be easily installed on Windows through your VSCode environment, or WSL - the Windows Subsystem for Linux - which ***may*** be easier to do than installing Python in Windows.\n",
    "\n",
    "In these cases you would save your script as a file such as ```DNA2Prot.py```, and run it on the command line as below. You can also give it parameters to define your inputs and outputs."
   ]
  },
  {
   "cell_type": "code",
   "execution_count": null,
   "metadata": {
    "id": "vwS7tkruQ4de"
   },
   "outputs": [],
   "source": [
    "#Example command line program (not available in notebook)\n",
    "DNA2Prot.py -i myDNA.fasta -o myProt.fna"
   ]
  },
  {
   "cell_type": "markdown",
   "metadata": {
    "id": "eTgkbH_CRknf"
   },
   "source": [
    "We'll come back to running whole programs later. First lets learn some core python concepts!"
   ]
  }
 ],
 "metadata": {
  "colab": {
   "authorship_tag": "ABX9TyMuq4qwW9+5rVY7LDak6hTM",
   "mount_file_id": "17oNOUx_VKaQ1102SodToHK0XEqQnc-qL",
   "provenance": []
  },
  "kernelspec": {
   "display_name": "Python 3",
   "name": "python3"
  },
  "language_info": {
   "codemirror_mode": {
    "name": "ipython",
    "version": 3
   },
   "file_extension": ".py",
   "mimetype": "text/x-python",
   "name": "python",
   "nbconvert_exporter": "python",
   "pygments_lexer": "ipython3",
   "version": "3.11.9"
  }
 },
 "nbformat": 4,
 "nbformat_minor": 0
}
