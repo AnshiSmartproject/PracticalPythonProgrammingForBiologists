{
 "cells": [
  {
   "cell_type": "markdown",
   "id": "c843e6b1",
   "metadata": {},
   "source": [
    "# Python Programming for Biologists:"
   ]
  },
  {
   "cell_type": "markdown",
   "id": "0d432721",
   "metadata": {},
   "source": [
    "#### Author: Dr. Daniel Pass | www.CompassBioinformatics.com"
   ]
  },
  {
   "cell_type": "markdown",
   "id": "acbcdaa1",
   "metadata": {},
   "source": [
    "---"
   ]
  },
  {
   "cell_type": "markdown",
   "id": "acf0728e",
   "metadata": {},
   "source": [
    "### Review python data types\n",
    "\n",
    "Each data type has a punctuation character to define it's type:\n",
    "\n",
    "#### Numbers - no character"
   ]
  },
  {
   "cell_type": "code",
   "execution_count": null,
   "id": "65f74ad4",
   "metadata": {
    "vscode": {
     "languageId": "plaintext"
    }
   },
   "outputs": [],
   "source": [
    "val1 = 2345\n",
    "val2 = 2345.678\n",
    "\n",
    "print(type(val1))\n",
    "print(type(val2))"
   ]
  },
  {
   "cell_type": "markdown",
   "id": "3306d459",
   "metadata": {},
   "source": [
    "#### Strings - Quotation marks `\" \"`"
   ]
  },
  {
   "cell_type": "code",
   "execution_count": null,
   "id": "665ac3d3",
   "metadata": {
    "vscode": {
     "languageId": "plaintext"
    }
   },
   "outputs": [],
   "source": [
    "val3 = \"Just a basic sentence\"\n",
    "val4 = '6543.23'\n",
    "\n",
    "print(type(val3))\n",
    "print(type(val4))"
   ]
  },
  {
   "cell_type": "markdown",
   "id": "8daba1b1",
   "metadata": {},
   "source": [
    "#### Lists - Square brackets `[ ]`"
   ]
  },
  {
   "cell_type": "code",
   "execution_count": null,
   "id": "2c463ffb",
   "metadata": {
    "vscode": {
     "languageId": "plaintext"
    }
   },
   "outputs": [],
   "source": [
    "val5 = [1, 2, 3, 4]\n",
    "val6 = [['a', 'b', 'c'], \"orange\", \"zebra\", 542.23]\n",
    "\n",
    "print(type(val5))\n",
    "print(type(val6))"
   ]
  },
  {
   "cell_type": "markdown",
   "id": "307690e1",
   "metadata": {},
   "source": [
    "\n",
    "#### Tuples - Round brackets aka parenthases `( )`\n"
   ]
  },
  {
   "cell_type": "code",
   "execution_count": null,
   "id": "1ba505ca",
   "metadata": {
    "vscode": {
     "languageId": "plaintext"
    }
   },
   "outputs": [],
   "source": [
    "val7 = ('ID01', 42, \"Cantalope\")\n",
    "\n",
    "print(type(val7))"
   ]
  },
  {
   "cell_type": "markdown",
   "id": "99a70def",
   "metadata": {},
   "source": [
    "\n",
    "#### Dictionaries - Curly brackets `{ }`\n"
   ]
  },
  {
   "cell_type": "code",
   "execution_count": null,
   "id": "9ea26df6",
   "metadata": {
    "vscode": {
     "languageId": "plaintext"
    }
   },
   "outputs": [],
   "source": [
    "val8 = {'TFBS1': 82, 'TFBS2': 23}\n",
    "val9 = {'Hello': [\"Bonjour\", \"Hallo\", \"Ni hao\"], 'Goodbye': [\"Au reviour\", \"Tsuss\", \"Zai jian\"]}\n",
    "\n",
    "print(type(val8))\n",
    "print(type(val9))"
   ]
  },
  {
   "cell_type": "markdown",
   "id": "885b7240",
   "metadata": {},
   "source": [
    "### Exercise 1: Strings"
   ]
  },
  {
   "cell_type": "markdown",
   "id": "cbe6ba1e",
   "metadata": {},
   "source": [
    "1.1. Create two string variables named `promotor_sequence` and `dna_sequence` containing the sequences 'GTGTGTAATATA' and 'ATCTGTCATGTGCAAAAAGGA'.\n"
   ]
  },
  {
   "cell_type": "markdown",
   "id": "2fda0905",
   "metadata": {},
   "source": [
    "1.2. Combine the seuqnences, print the sequence, and print the total length\n"
   ]
  },
  {
   "cell_type": "markdown",
   "id": "0ca3c9ac",
   "metadata": {},
   "source": [
    "1.3 Output how many As are in the sequence"
   ]
  },
  {
   "cell_type": "code",
   "execution_count": null,
   "id": "4471d5d0",
   "metadata": {},
   "outputs": [],
   "source": [
    "# Your code goes here"
   ]
  },
  {
   "cell_type": "markdown",
   "id": "fd9d7383",
   "metadata": {},
   "source": [
    "<details>\n",
    "<summary>Answers here. Don't peak!</summary>\n",
    "\n",
    "```\n",
    "promotor_sequence = \"GTGTGTAATATA\"\n",
    "dna_sequence = \"ATCTGTCATGTGCAAAAAGGA\"\n",
    "\n",
    "combined = promotor_sequence + dna_sequence\n",
    "\n",
    "print(combined)\n",
    "print(len(combined))\n",
    "print(combined.count('A'))\n",
    "```\n",
    "\n",
    "</details>\n"
   ]
  },
  {
   "cell_type": "markdown",
   "id": "d8ee0983",
   "metadata": {},
   "source": [
    "---"
   ]
  },
  {
   "cell_type": "markdown",
   "id": "3cc70f8b",
   "metadata": {},
   "source": [
    "### Exercise 2: Numbers"
   ]
  },
  {
   "cell_type": "markdown",
   "id": "3e6a46b2",
   "metadata": {},
   "source": [
    "2.1. Create an integer variable `total_reads` and set it to 51250.\n"
   ]
  },
  {
   "cell_type": "markdown",
   "id": "6ab0fe8a",
   "metadata": {},
   "source": [
    "2.2. Create a float variable `genome_coverage` and set it to 0.76.\n"
   ]
  },
  {
   "cell_type": "markdown",
   "id": "2746c5d4",
   "metadata": {},
   "source": [
    "2.3. Calculate the total number of mapped reads (total reads multiplied by genome coverage) using `total_reads` and `genome_coverage` and store it in a variable `mapped_reads`. \n",
    "        Print `mapped_reads`, and also as a percentage.\n"
   ]
  },
  {
   "cell_type": "code",
   "execution_count": 9,
   "id": "99458ab0",
   "metadata": {},
   "outputs": [],
   "source": [
    "# Your code goes here"
   ]
  },
  {
   "cell_type": "markdown",
   "id": "5ff6ed5c",
   "metadata": {},
   "source": [
    "<details>\n",
    "<summary>Answers here. Don't peak!</summary>\n",
    "\n",
    "```\n",
    "# Your code goes here\n",
    "total_reads = int(51250)\n",
    "genome_coverage = float(0.76)\n",
    "\n",
    "mapped_reads = total_reads * genome_coverage\n",
    "\n",
    "print(\"Mapped reads:\", mapped_reads, \"(\" + str(mapped_reads/total_reads * 100) +\"%)\")\n",
    "```\n",
    "\n",
    "</details>\n"
   ]
  },
  {
   "cell_type": "markdown",
   "id": "bed5518f",
   "metadata": {},
   "source": [
    "---"
   ]
  },
  {
   "cell_type": "markdown",
   "id": "9f038a1d",
   "metadata": {},
   "source": [
    "### Exercise 3: Lists"
   ]
  },
  {
   "cell_type": "markdown",
   "id": "b18144b9",
   "metadata": {},
   "source": [
    "3.1. Create a list of `amino_acids` containing the elements  'Cysteine', 'Valine', 'Aspartic Acid', 'Glutamine', 'Tyrosene', 'Alanine'.\n"
   ]
  },
  {
   "cell_type": "markdown",
   "id": "302509f9",
   "metadata": {},
   "source": [
    "3.2. Add 'Selenocysteine', and remove 'Aspartic Acid' from the list and print the updated list."
   ]
  },
  {
   "cell_type": "markdown",
   "id": "3ee56865",
   "metadata": {},
   "source": [
    "3.3. Sort the list and print the first and last elements.\n"
   ]
  },
  {
   "cell_type": "markdown",
   "id": "2478c0ab",
   "metadata": {},
   "source": [
    "3.4 Create a new list that contains the first half of the sequences - Try to do that so it will output half, however long the list is \n",
    "        \n",
    "        - (Note: The number in a list[number] must be an int)\n"
   ]
  },
  {
   "cell_type": "code",
   "execution_count": 23,
   "id": "96139669",
   "metadata": {},
   "outputs": [],
   "source": [
    "# Your code here\n"
   ]
  },
  {
   "cell_type": "markdown",
   "id": "77a889f2",
   "metadata": {},
   "source": [
    "<details>\n",
    "<summary>Answers here. Don't peak!</summary>\n",
    "\n",
    "```\n",
    "amino_acids = ['Cysteine', 'Valine', 'Aspartic Acid', 'Glutamine', 'Tyrosene', 'Alanine']\n",
    "\n",
    "amino_acids.append('Selenocysteine')\n",
    "amino_acids.remove('Aspartic Acid')\n",
    "\n",
    "print(amino_acids)\n",
    "\n",
    "amino_acids.sort()\n",
    "print(amino_acids[0], amino_acids[-1])\n",
    "\n",
    "half_number = len(amino_acids) / 2\n",
    "\n",
    "new_list = amino_acids[:int(half_number)]\n",
    "print(new_list)\n",
    "```\n",
    "\n",
    "</details>"
   ]
  },
  {
   "cell_type": "markdown",
   "id": "4164a554",
   "metadata": {},
   "source": [
    "---\n",
    "\n",
    "### Exercise 4: 2D lists"
   ]
  },
  {
   "cell_type": "markdown",
   "id": "7373514a",
   "metadata": {},
   "source": [
    "4.1 Create a 2D list named ```experiments``` of these sites and researchers:\n",
    "[\"CDF\", \"Amy\"] \n",
    "[\"BRI\", \"Bryan\"]\n",
    "[\"LDN\", \"Charlie\"]\n",
    "[\"SWN\", \"Daniel\"]\n",
    "[\"EXT\", \"Elphaba\"]\n"
   ]
  },
  {
   "cell_type": "markdown",
   "id": "921d2578",
   "metadata": {},
   "source": [
    "4.2 Print the 2nd site/researcher sublist"
   ]
  },
  {
   "cell_type": "markdown",
   "id": "2d3cbb92",
   "metadata": {},
   "source": [
    "4.3 Print the 4th researcher in the list"
   ]
  },
  {
   "cell_type": "markdown",
   "id": "e4def7c2",
   "metadata": {},
   "source": [
    "\n",
    "4.4 Print the last site in the list\n"
   ]
  },
  {
   "cell_type": "markdown",
   "id": "bacfe255",
   "metadata": {},
   "source": [
    "4.4 Add a new site/researcher to the list: [\"BRL\", \"Fran\"]"
   ]
  },
  {
   "cell_type": "markdown",
   "id": "c66b2139",
   "metadata": {},
   "source": [
    "4.5 Print the complete list\n",
    "\n",
    "4.6 Extension - Create a loop and print the researcher name IF the site code begins with a `B`"
   ]
  },
  {
   "cell_type": "code",
   "execution_count": 27,
   "id": "50b2db70",
   "metadata": {},
   "outputs": [],
   "source": [
    "# Your code goes here\n"
   ]
  },
  {
   "cell_type": "markdown",
   "id": "8322855d",
   "metadata": {},
   "source": [
    "<details>\n",
    "<summary>Answers here. Don't peak!</summary>\n",
    "\n",
    "```\n",
    "experiments = [[\"CDF\", \"Amy\"],[\"BRI\", \"Bryan\"],[\"LDN\", \"Charlie\"],[\"SWN\", \"Daniel\"],[\"EXT\", \"Elphaba\"]]\n",
    "\n",
    "print(experiments[1])\n",
    "print(experiments[3][1])\n",
    "print(experiments[-1][0])\n",
    "\n",
    "experiments.append([\"BRL\", \"Fran\"])\n",
    "\n",
    "print(experiments)\n",
    "```\n",
    "\n",
    "</details>"
   ]
  },
  {
   "cell_type": "markdown",
   "id": "fb2dbf38",
   "metadata": {},
   "source": [
    "Exercise 5: Dictionaries\n",
    "\n",
    "5.1 Create a dictionary with the site data of the city, country, and latitude & longitude coordinates. Use the city as the key.\n",
    "\n",
    "    \"Buenos Aires\"  \"Argentina\" -34.6037 -58.3816\n",
    "    \"São Paulo\"     \"Brazil\"    -23.5505 -46.6333\n",
    "    \"Montevideo\"    \"Uruguay\"   -34.9011 -56.1645\n",
    "    \"Asunción\"      \"Paraguay\"  -25.2637 -57.5759\n",
    "    \"Brasília\"      \"Brazil\"    -15.8267 -47.9218\n",
    "    \"Córdoba\"       \"Argentina\" -31.4201 -64.1888\n",
    "    \"Mendoza\"       \"Argentina\" -32.8895 -68.8458\n",
    "    \"Salvador\"      \"Brazil\"    -12.9714 -38.5014\n",
    "\n",
    "5.2 Add an additional data row with:  \"Bogotá\" \"Colombia\" 4.7110 -74.0721\n",
    "\n",
    "5.3 Return the values for these cities: Mendoza, São Paulo, Lima\n",
    "\n",
    "5.4 Extension - Using a loop, print only the results from the country Argentina"
   ]
  },
  {
   "cell_type": "code",
   "execution_count": null,
   "id": "62054251",
   "metadata": {},
   "outputs": [],
   "source": [
    "# Your code goes here"
   ]
  }
 ],
 "metadata": {
  "kernelspec": {
   "display_name": "Python 3",
   "language": "python",
   "name": "python3"
  },
  "language_info": {
   "codemirror_mode": {
    "name": "ipython",
    "version": 3
   },
   "file_extension": ".py",
   "mimetype": "text/x-python",
   "name": "python",
   "nbconvert_exporter": "python",
   "pygments_lexer": "ipython3",
   "version": "3.11.5"
  }
 },
 "nbformat": 4,
 "nbformat_minor": 5
}
